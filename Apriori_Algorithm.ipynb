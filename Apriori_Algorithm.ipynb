{
  "cells": [
    {
      "cell_type": "markdown",
      "metadata": {
        "id": "view-in-github",
        "colab_type": "text"
      },
      "source": [
        "<a href=\"https://colab.research.google.com/github/podo47/Apriori-Algorithm/blob/main/Apriori_Algorithm.ipynb\" target=\"_parent\"><img src=\"https://colab.research.google.com/assets/colab-badge.svg\" alt=\"Open In Colab\"/></a>"
      ]
    },
    {
      "cell_type": "markdown",
      "metadata": {
        "id": "vZ6Kl_5qNwly"
      },
      "source": [
        "#Apriori Algorithm"
      ]
    },
    {
      "cell_type": "markdown",
      "metadata": {
        "id": "mSsvJvCvRbxZ"
      },
      "source": [
        "## Import library"
      ]
    },
    {
      "cell_type": "code",
      "execution_count": 1,
      "metadata": {
        "id": "t2T8AAmNH_mN"
      },
      "outputs": [],
      "source": [
        "from itertools import combinations\n",
        "import csv\n",
        "from collections import Counter\n",
        "import pandas as pd"
      ]
    },
    {
      "cell_type": "markdown",
      "metadata": {
        "id": "DAt3rW73k0Y6"
      },
      "source": [
        "## Mount google drive"
      ]
    },
    {
      "cell_type": "code",
      "execution_count": 2,
      "metadata": {
        "colab": {
          "base_uri": "https://localhost:8080/"
        },
        "id": "sSGM1oKHkiLp",
        "outputId": "e9a5a125-13f6-4114-cdc5-a8f24447d458"
      },
      "outputs": [
        {
          "output_type": "stream",
          "name": "stdout",
          "text": [
            "Mounted at /content/drive\n"
          ]
        }
      ],
      "source": [
        "from google.colab import drive\n",
        "drive.mount('/content/drive')"
      ]
    },
    {
      "cell_type": "markdown",
      "metadata": {
        "id": "YvNnHUBB595T"
      },
      "source": [
        "## Calculate support"
      ]
    },
    {
      "cell_type": "code",
      "execution_count": 3,
      "metadata": {
        "id": "-xtru8xn6tJM"
      },
      "outputs": [],
      "source": [
        "def supports(item,trans):\n",
        "  num_trans = len(trans)\n",
        "  # Count the frequency of each item\n",
        "  item_freq = dict()\n",
        "  for i in item:\n",
        "    if type(i) is tuple:\n",
        "      set_i = set(i)\n",
        "    else:\n",
        "      set_i = {i}\n",
        "    for j in range(num_trans):\n",
        "      if set_i.issubset(set(trans[j])):\n",
        "        if i in item_freq:\n",
        "          item_freq[i] += 1\n",
        "        else:\n",
        "          item_freq[i] = 1\n",
        "  return item_freq"
      ]
    },
    {
      "cell_type": "markdown",
      "metadata": {
        "id": "T-FVNNoeh-eB"
      },
      "source": [
        "## Calculate confidence"
      ]
    },
    {
      "cell_type": "code",
      "execution_count": 4,
      "metadata": {
        "id": "SKJNGr1iiCPg"
      },
      "outputs": [],
      "source": [
        "def confidence(candidate,min_conf):\n",
        "  len_can = len(candidate)\n",
        "  conf_list = []\n",
        "  for i in range(len_can-1):\n",
        "    conf_dict = dict()\n",
        "    for j in candidate[i].items():\n",
        "      if type(j[0]) is tuple:\n",
        "        left = set(j[0])\n",
        "      else:\n",
        "        left = {j[0]}\n",
        "      for k in candidate[i+1].items():\n",
        "        right = set(k[0])\n",
        "        if left.issubset(right):\n",
        "          conf = k[1]/j[1]\n",
        "          left_i = (j[0],k[0])\n",
        "          if conf>min_conf:\n",
        "            conf_dict[left_i] = conf\n",
        "    conf_list.append(conf_dict)\n",
        "\n",
        "  return conf_list"
      ]
    },
    {
      "cell_type": "markdown",
      "source": [
        "## Answer form"
      ],
      "metadata": {
        "id": "ppCfLcpP-Pbs"
      }
    },
    {
      "cell_type": "code",
      "source": [
        "def ans(conf_list):\n",
        "  conf_len = len(conf_list)\n",
        "  with open('/content/drive/MyDrive/Apriori_Algorithm/output.csv', 'w', newline='') as csvfile:\n",
        "    fieldnames = ['Rule:left','→','Rule:right','Confidence']\n",
        "    csvfile = csv.writer(csvfile)\n",
        "    csvfile.writerow(fieldnames)\n",
        "    for i in range(conf_len):\n",
        "      for j in conf_list[i].items():\n",
        "        if type(j[0][0]) is tuple: \n",
        "          left = set(j[0][0]) \n",
        "        else:\n",
        "          left = {j[0][0]}\n",
        "          left_single = list(map(str, left))\n",
        "        right = set(j[0][1]) - left\n",
        "        right = list(map(str, right))\n",
        "        if len(left)==1:\n",
        "          csvfile.writerow([left_single[0],'→',right[0],j[1]])\n",
        "        else:\n",
        "          csvfile.writerow([left,'→',right[0],j[1]])\n"
      ],
      "metadata": {
        "id": "k4kplkCF-SkE"
      },
      "execution_count": 5,
      "outputs": []
    },
    {
      "cell_type": "markdown",
      "metadata": {
        "id": "GHB4u9iExnrm"
      },
      "source": [
        "## Main : Apriori algorithm"
      ]
    },
    {
      "cell_type": "code",
      "source": [
        "def Apriori():\n",
        "  min_supp = float(input(\"Please enter min support : \")) # User-defined : 0 < input < 1 \n",
        "  min_conf = float(input(\"Please enter min confidence : \")) # User-defined : 0 < input <= 1 \n",
        "\n",
        "  item = set()\n",
        "  candidate = list()\n",
        "  count = []\n",
        "  for i in trans:\n",
        "    for j in i:\n",
        "      count.append(j)\n",
        "  count = Counter(count)\n",
        "  supp_sum = sum(count.values())\n",
        "  min_supp = min_supp*supp_sum\n",
        "  candidate.append({j[0]:j[1] for j in count.items() if j[1]>min_supp})\n",
        "  for i in count.items():\n",
        "    if i[1]>min_supp:\n",
        "      item.add(i[0])\n",
        "  max_trans_size = len(item)\n",
        "  n = 2\n",
        "  i = 1\n",
        "  while n < max_trans_size:\n",
        "    if len(item)<n:\n",
        "      break\n",
        "    item_combin = combinations(item,n)\n",
        "    supp_combin = supports(item_combin,trans)\n",
        "    if list({j[0]:j[1] for j in supp_combin.items() if j[1]>min_supp}) != []:\n",
        "        candidate.append({j[0]:j[1] for j in supp_combin.items() if j[1]>min_supp})\n",
        "    if len(candidate)-1 < i:\n",
        "      break\n",
        "    item_test = set()\n",
        "    for j in candidate[i].keys():\n",
        "      for k in j:\n",
        "        item_test.add(k)\n",
        "    item = item_test\n",
        "    n+=1\n",
        "    i+=1\n",
        "\n",
        "  strong_rule = confidence(candidate,min_conf)\n",
        "  answer = ans(strong_rule)\n",
        "\n",
        "  return answer"
      ],
      "metadata": {
        "id": "Nl6S8nd2CStK"
      },
      "execution_count": 6,
      "outputs": []
    },
    {
      "cell_type": "markdown",
      "source": [
        "# Run"
      ],
      "metadata": {
        "id": "qHc39ZYcPGxk"
      }
    },
    {
      "cell_type": "markdown",
      "source": [
        "## Input file preprocessing"
      ],
      "metadata": {
        "id": "x8o5AKbXPKMA"
      }
    },
    {
      "cell_type": "markdown",
      "source": [
        "### Read input"
      ],
      "metadata": {
        "id": "Fe-5LX8mPRB7"
      }
    },
    {
      "cell_type": "code",
      "source": [
        "path = '/content/drive/MyDrive/Apriori_Algorithm/input.txt'"
      ],
      "metadata": {
        "id": "KnLJqzEBPOd2"
      },
      "execution_count": 7,
      "outputs": []
    },
    {
      "cell_type": "markdown",
      "source": [
        "### Modify input format and store in list"
      ],
      "metadata": {
        "id": "gNd5Qe_8PUrb"
      }
    },
    {
      "cell_type": "code",
      "source": [
        "trans = []\n",
        "with open(path) as ip:\n",
        "  for line in ip:\n",
        "      sp = line.split()\n",
        "      sp = [int(i) for i in sp]\n",
        "      trans.append(sp)"
      ],
      "metadata": {
        "id": "rgxVECbPPX6K"
      },
      "execution_count": 8,
      "outputs": []
    },
    {
      "cell_type": "markdown",
      "source": [
        "## Output"
      ],
      "metadata": {
        "id": "dGWDGX_qPcgj"
      }
    },
    {
      "cell_type": "code",
      "execution_count": 9,
      "metadata": {
        "colab": {
          "base_uri": "https://localhost:8080/",
          "height": 460
        },
        "id": "-9vMvFOwG9SA",
        "outputId": "ac044c04-2deb-4dac-aca6-9d95aa006083"
      },
      "outputs": [
        {
          "name": "stdout",
          "output_type": "stream",
          "text": [
            "Please enter min support : 0.001\n",
            "Please enter min confidence : 0.05\n"
          ]
        },
        {
          "output_type": "execute_result",
          "data": {
            "text/plain": [
              "         Rule:left  →  Rule:right  Confidence\n",
              "0               32  →          38    0.186787\n",
              "1               32  →          39    0.557460\n",
              "2               32  →          41    0.210721\n",
              "3               32  →          48    0.529703\n",
              "4               36  →          38    0.950272\n",
              "..             ... ..         ...         ...\n",
              "163  {48, 110, 38}  →          39    0.757531\n",
              "164   {48, 41, 39}  →          32    0.223459\n",
              "165   {48, 41, 39}  →          38    0.270296\n",
              "166  {48, 170, 39}  →          38    0.989221\n",
              "167  {48, 110, 39}  →          38    0.994214\n",
              "\n",
              "[168 rows x 4 columns]"
            ],
            "text/html": [
              "\n",
              "  <div id=\"df-d6a35aa3-2331-4fc0-a590-9780b67d9859\">\n",
              "    <div class=\"colab-df-container\">\n",
              "      <div>\n",
              "<style scoped>\n",
              "    .dataframe tbody tr th:only-of-type {\n",
              "        vertical-align: middle;\n",
              "    }\n",
              "\n",
              "    .dataframe tbody tr th {\n",
              "        vertical-align: top;\n",
              "    }\n",
              "\n",
              "    .dataframe thead th {\n",
              "        text-align: right;\n",
              "    }\n",
              "</style>\n",
              "<table border=\"1\" class=\"dataframe\">\n",
              "  <thead>\n",
              "    <tr style=\"text-align: right;\">\n",
              "      <th></th>\n",
              "      <th>Rule:left</th>\n",
              "      <th>→</th>\n",
              "      <th>Rule:right</th>\n",
              "      <th>Confidence</th>\n",
              "    </tr>\n",
              "  </thead>\n",
              "  <tbody>\n",
              "    <tr>\n",
              "      <th>0</th>\n",
              "      <td>32</td>\n",
              "      <td>→</td>\n",
              "      <td>38</td>\n",
              "      <td>0.186787</td>\n",
              "    </tr>\n",
              "    <tr>\n",
              "      <th>1</th>\n",
              "      <td>32</td>\n",
              "      <td>→</td>\n",
              "      <td>39</td>\n",
              "      <td>0.557460</td>\n",
              "    </tr>\n",
              "    <tr>\n",
              "      <th>2</th>\n",
              "      <td>32</td>\n",
              "      <td>→</td>\n",
              "      <td>41</td>\n",
              "      <td>0.210721</td>\n",
              "    </tr>\n",
              "    <tr>\n",
              "      <th>3</th>\n",
              "      <td>32</td>\n",
              "      <td>→</td>\n",
              "      <td>48</td>\n",
              "      <td>0.529703</td>\n",
              "    </tr>\n",
              "    <tr>\n",
              "      <th>4</th>\n",
              "      <td>36</td>\n",
              "      <td>→</td>\n",
              "      <td>38</td>\n",
              "      <td>0.950272</td>\n",
              "    </tr>\n",
              "    <tr>\n",
              "      <th>...</th>\n",
              "      <td>...</td>\n",
              "      <td>...</td>\n",
              "      <td>...</td>\n",
              "      <td>...</td>\n",
              "    </tr>\n",
              "    <tr>\n",
              "      <th>163</th>\n",
              "      <td>{48, 110, 38}</td>\n",
              "      <td>→</td>\n",
              "      <td>39</td>\n",
              "      <td>0.757531</td>\n",
              "    </tr>\n",
              "    <tr>\n",
              "      <th>164</th>\n",
              "      <td>{48, 41, 39}</td>\n",
              "      <td>→</td>\n",
              "      <td>32</td>\n",
              "      <td>0.223459</td>\n",
              "    </tr>\n",
              "    <tr>\n",
              "      <th>165</th>\n",
              "      <td>{48, 41, 39}</td>\n",
              "      <td>→</td>\n",
              "      <td>38</td>\n",
              "      <td>0.270296</td>\n",
              "    </tr>\n",
              "    <tr>\n",
              "      <th>166</th>\n",
              "      <td>{48, 170, 39}</td>\n",
              "      <td>→</td>\n",
              "      <td>38</td>\n",
              "      <td>0.989221</td>\n",
              "    </tr>\n",
              "    <tr>\n",
              "      <th>167</th>\n",
              "      <td>{48, 110, 39}</td>\n",
              "      <td>→</td>\n",
              "      <td>38</td>\n",
              "      <td>0.994214</td>\n",
              "    </tr>\n",
              "  </tbody>\n",
              "</table>\n",
              "<p>168 rows × 4 columns</p>\n",
              "</div>\n",
              "      <button class=\"colab-df-convert\" onclick=\"convertToInteractive('df-d6a35aa3-2331-4fc0-a590-9780b67d9859')\"\n",
              "              title=\"Convert this dataframe to an interactive table.\"\n",
              "              style=\"display:none;\">\n",
              "        \n",
              "  <svg xmlns=\"http://www.w3.org/2000/svg\" height=\"24px\"viewBox=\"0 0 24 24\"\n",
              "       width=\"24px\">\n",
              "    <path d=\"M0 0h24v24H0V0z\" fill=\"none\"/>\n",
              "    <path d=\"M18.56 5.44l.94 2.06.94-2.06 2.06-.94-2.06-.94-.94-2.06-.94 2.06-2.06.94zm-11 1L8.5 8.5l.94-2.06 2.06-.94-2.06-.94L8.5 2.5l-.94 2.06-2.06.94zm10 10l.94 2.06.94-2.06 2.06-.94-2.06-.94-.94-2.06-.94 2.06-2.06.94z\"/><path d=\"M17.41 7.96l-1.37-1.37c-.4-.4-.92-.59-1.43-.59-.52 0-1.04.2-1.43.59L10.3 9.45l-7.72 7.72c-.78.78-.78 2.05 0 2.83L4 21.41c.39.39.9.59 1.41.59.51 0 1.02-.2 1.41-.59l7.78-7.78 2.81-2.81c.8-.78.8-2.07 0-2.86zM5.41 20L4 18.59l7.72-7.72 1.47 1.35L5.41 20z\"/>\n",
              "  </svg>\n",
              "      </button>\n",
              "      \n",
              "  <style>\n",
              "    .colab-df-container {\n",
              "      display:flex;\n",
              "      flex-wrap:wrap;\n",
              "      gap: 12px;\n",
              "    }\n",
              "\n",
              "    .colab-df-convert {\n",
              "      background-color: #E8F0FE;\n",
              "      border: none;\n",
              "      border-radius: 50%;\n",
              "      cursor: pointer;\n",
              "      display: none;\n",
              "      fill: #1967D2;\n",
              "      height: 32px;\n",
              "      padding: 0 0 0 0;\n",
              "      width: 32px;\n",
              "    }\n",
              "\n",
              "    .colab-df-convert:hover {\n",
              "      background-color: #E2EBFA;\n",
              "      box-shadow: 0px 1px 2px rgba(60, 64, 67, 0.3), 0px 1px 3px 1px rgba(60, 64, 67, 0.15);\n",
              "      fill: #174EA6;\n",
              "    }\n",
              "\n",
              "    [theme=dark] .colab-df-convert {\n",
              "      background-color: #3B4455;\n",
              "      fill: #D2E3FC;\n",
              "    }\n",
              "\n",
              "    [theme=dark] .colab-df-convert:hover {\n",
              "      background-color: #434B5C;\n",
              "      box-shadow: 0px 1px 3px 1px rgba(0, 0, 0, 0.15);\n",
              "      filter: drop-shadow(0px 1px 2px rgba(0, 0, 0, 0.3));\n",
              "      fill: #FFFFFF;\n",
              "    }\n",
              "  </style>\n",
              "\n",
              "      <script>\n",
              "        const buttonEl =\n",
              "          document.querySelector('#df-d6a35aa3-2331-4fc0-a590-9780b67d9859 button.colab-df-convert');\n",
              "        buttonEl.style.display =\n",
              "          google.colab.kernel.accessAllowed ? 'block' : 'none';\n",
              "\n",
              "        async function convertToInteractive(key) {\n",
              "          const element = document.querySelector('#df-d6a35aa3-2331-4fc0-a590-9780b67d9859');\n",
              "          const dataTable =\n",
              "            await google.colab.kernel.invokeFunction('convertToInteractive',\n",
              "                                                     [key], {});\n",
              "          if (!dataTable) return;\n",
              "\n",
              "          const docLinkHtml = 'Like what you see? Visit the ' +\n",
              "            '<a target=\"_blank\" href=https://colab.research.google.com/notebooks/data_table.ipynb>data table notebook</a>'\n",
              "            + ' to learn more about interactive tables.';\n",
              "          element.innerHTML = '';\n",
              "          dataTable['output_type'] = 'display_data';\n",
              "          await google.colab.output.renderOutput(dataTable, element);\n",
              "          const docLink = document.createElement('div');\n",
              "          docLink.innerHTML = docLinkHtml;\n",
              "          element.appendChild(docLink);\n",
              "        }\n",
              "      </script>\n",
              "    </div>\n",
              "  </div>\n",
              "  "
            ]
          },
          "metadata": {},
          "execution_count": 9
        }
      ],
      "source": [
        "test = Apriori() #Please enter min support : 0.001/ Please enter min confidence : 0.05\n",
        "df = pd.read_csv ('/content/drive/MyDrive/Apriori_Algorithm/output.csv')\n",
        "df"
      ]
    }
  ],
  "metadata": {
    "colab": {
      "toc_visible": true,
      "provenance": [],
      "authorship_tag": "ABX9TyNixpFHd2LqhN+KjNjf/0gp",
      "include_colab_link": true
    },
    "kernelspec": {
      "display_name": "Python 3",
      "name": "python3"
    },
    "language_info": {
      "name": "python"
    }
  },
  "nbformat": 4,
  "nbformat_minor": 0
}